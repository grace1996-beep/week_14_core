{
  "nbformat": 4,
  "nbformat_minor": 0,
  "metadata": {
    "colab": {
      "name": "Part 3. Association rules",
      "provenance": [],
      "authorship_tag": "ABX9TyOGh0irD59XPWp93oxbiwt6",
      "include_colab_link": true
    },
    "kernelspec": {
      "name": "python3",
      "display_name": "Python 3"
    },
    "language_info": {
      "name": "python"
    }
  },
  "cells": [
    {
      "cell_type": "markdown",
      "metadata": {
        "id": "view-in-github",
        "colab_type": "text"
      },
      "source": [
        "<a href=\"https://colab.research.google.com/github/grace1996-beep/week_14_core/blob/main/Part_3_Association_rules.ipynb\" target=\"_parent\"><img src=\"https://colab.research.google.com/assets/colab-badge.svg\" alt=\"Open In Colab\"/></a>"
      ]
    },
    {
      "cell_type": "markdown",
      "metadata": {
        "id": "kprduh0jQXAh"
      },
      "source": [
        "# Association Analysis in R"
      ]
    },
    {
      "cell_type": "markdown",
      "metadata": {
        "id": "NqOgM1DKRpqh"
      },
      "source": [
        "# Defining the reserch question\n",
        "1. To perform association analysis in the given dataset"
      ]
    },
    {
      "cell_type": "markdown",
      "metadata": {
        "id": "_j4pS-7SR3bI"
      },
      "source": [
        "# Defining the metrics of success\n",
        "1. Loading the dataset\n",
        "\n",
        "2. Performing association analysis\n",
        "\n"
      ]
    },
    {
      "cell_type": "code",
      "metadata": {
        "id": "V4jzaYaBELFj"
      },
      "source": [
        "%load_ext rpy2.ipython"
      ],
      "execution_count": null,
      "outputs": []
    },
    {
      "cell_type": "code",
      "metadata": {
        "colab": {
          "base_uri": "https://localhost:8080/"
        },
        "id": "_g0sruKzEW-9",
        "outputId": "fbd27a47-7bf0-4c40-fdf2-643b9eec2fc2"
      },
      "source": [
        "%%R\n",
        "#installing  the required arules library \n",
        "\n",
        "install.packages(\"arules\")"
      ],
      "execution_count": null,
      "outputs": [
        {
          "output_type": "stream",
          "text": [
            "R[write to console]: Installing package into ‘/usr/local/lib/R/site-library’\n",
            "(as ‘lib’ is unspecified)\n",
            "\n",
            "R[write to console]: trying URL 'https://cran.rstudio.com/src/contrib/arules_1.6-8.tar.gz'\n",
            "\n",
            "R[write to console]: Content type 'application/x-gzip'\n",
            "R[write to console]:  length 1833508 bytes (1.7 MB)\n",
            "\n",
            "R[write to console]: =\n",
            "R[write to console]: =\n",
            "R[write to console]: =\n",
            "R[write to console]: =\n",
            "R[write to console]: =\n",
            "R[write to console]: =\n",
            "R[write to console]: =\n",
            "R[write to console]: =\n",
            "R[write to console]: =\n",
            "R[write to console]: =\n",
            "R[write to console]: =\n",
            "R[write to console]: =\n",
            "R[write to console]: =\n",
            "R[write to console]: =\n",
            "R[write to console]: =\n",
            "R[write to console]: =\n",
            "R[write to console]: =\n",
            "R[write to console]: =\n",
            "R[write to console]: =\n",
            "R[write to console]: =\n",
            "R[write to console]: =\n",
            "R[write to console]: =\n",
            "R[write to console]: =\n",
            "R[write to console]: =\n",
            "R[write to console]: =\n",
            "R[write to console]: =\n",
            "R[write to console]: =\n",
            "R[write to console]: =\n",
            "R[write to console]: =\n",
            "R[write to console]: =\n",
            "R[write to console]: =\n",
            "R[write to console]: =\n",
            "R[write to console]: =\n",
            "R[write to console]: =\n",
            "R[write to console]: =\n",
            "R[write to console]: =\n",
            "R[write to console]: =\n",
            "R[write to console]: =\n",
            "R[write to console]: =\n",
            "R[write to console]: =\n",
            "R[write to console]: =\n",
            "R[write to console]: =\n",
            "R[write to console]: =\n",
            "R[write to console]: =\n",
            "R[write to console]: =\n",
            "R[write to console]: =\n",
            "R[write to console]: =\n",
            "R[write to console]: =\n",
            "R[write to console]: =\n",
            "R[write to console]: =\n",
            "R[write to console]: \n",
            "\n",
            "R[write to console]: downloaded 1.7 MB\n",
            "\n",
            "\n",
            "R[write to console]: \n",
            "\n",
            "R[write to console]: \n",
            "R[write to console]: The downloaded source packages are in\n",
            "\t‘/tmp/RtmpYuQbOv/downloaded_packages’\n",
            "R[write to console]: \n",
            "R[write to console]: \n",
            "\n"
          ],
          "name": "stderr"
        }
      ]
    },
    {
      "cell_type": "code",
      "metadata": {
        "colab": {
          "base_uri": "https://localhost:8080/"
        },
        "id": "WTrOeDTKEdTG",
        "outputId": "7196e529-083d-4947-ea7b-3f74671bdb34"
      },
      "source": [
        "%%R\n",
        "# Loading the arules library\n",
        "#\n",
        "library(arules)"
      ],
      "execution_count": null,
      "outputs": [
        {
          "output_type": "stream",
          "text": [
            "R[write to console]: Loading required package: Matrix\n",
            "\n",
            "R[write to console]: \n",
            "Attaching package: ‘arules’\n",
            "\n",
            "\n",
            "R[write to console]: The following objects are masked from ‘package:base’:\n",
            "\n",
            "    abbreviate, write\n",
            "\n",
            "\n"
          ],
          "name": "stderr"
        }
      ]
    },
    {
      "cell_type": "code",
      "metadata": {
        "colab": {
          "base_uri": "https://localhost:8080/"
        },
        "id": "61rUDV2REjlL",
        "outputId": "36f50d9f-3c2d-4831-b377-dd8681b7abb3"
      },
      "source": [
        "%%R\n",
        "df <- read.csv(\"http://bit.ly/SupermarketDatasetII\")\n",
        "head(df)"
      ],
      "execution_count": null,
      "outputs": [
        {
          "output_type": "stream",
          "text": [
            "             shrimp      almonds    avocado   vegetables.mix green.grapes\n",
            "1           burgers    meatballs       eggs                              \n",
            "2           chutney                                                      \n",
            "3            turkey      avocado                                         \n",
            "4     mineral water         milk energy bar whole wheat rice    green tea\n",
            "5    low fat yogurt                                                      \n",
            "6 whole wheat pasta french fries                                         \n",
            "  whole.weat.flour yams cottage.cheese energy.drink tomato.juice low.fat.yogurt\n",
            "1                                                                              \n",
            "2                                                                              \n",
            "3                                                                              \n",
            "4                                                                              \n",
            "5                                                                              \n",
            "6                                                                              \n",
            "  green.tea honey salad mineral.water salmon antioxydant.juice frozen.smoothie\n",
            "1                                                                             \n",
            "2                                                                             \n",
            "3                                                                             \n",
            "4                                                                             \n",
            "5                                                                             \n",
            "6                                                                             \n",
            "  spinach olive.oil\n",
            "1                NA\n",
            "2                NA\n",
            "3                NA\n",
            "4                NA\n",
            "5                NA\n",
            "6                NA\n"
          ],
          "name": "stdout"
        }
      ]
    },
    {
      "cell_type": "code",
      "metadata": {
        "colab": {
          "base_uri": "https://localhost:8080/"
        },
        "id": "MrM7x4yLE4aF",
        "outputId": "115a6cbe-7cb5-4ee5-adc9-2454b2336e96"
      },
      "source": [
        "%%R\n",
        "# Loading our supermaket dataset \n",
        "path <-\"http://bit.ly/SupermarketDatasetII\"\n",
        "\n",
        "Transactions<-read.transactions(path, sep = \",\")\n",
        "Transactions"
      ],
      "execution_count": null,
      "outputs": [
        {
          "output_type": "stream",
          "text": [
            "transactions in sparse format with\n",
            " 7501 transactions (rows) and\n",
            " 119 items (columns)\n"
          ],
          "name": "stdout"
        }
      ]
    },
    {
      "cell_type": "code",
      "metadata": {
        "colab": {
          "base_uri": "https://localhost:8080/"
        },
        "id": "08oMQGtrFaQG",
        "outputId": "178df010-f4b2-456b-c42c-454f521b16b1"
      },
      "source": [
        "%%R\n",
        "# Verifying the object's class\n",
        "# ---\n",
        "# This should show  transactions as the type of data that i will need\n",
        "# ---\n",
        "# \n",
        "class(Transactions)"
      ],
      "execution_count": null,
      "outputs": [
        {
          "output_type": "stream",
          "text": [
            "[1] \"transactions\"\n",
            "attr(,\"package\")\n",
            "[1] \"arules\"\n"
          ],
          "name": "stdout"
        }
      ]
    },
    {
      "cell_type": "code",
      "metadata": {
        "colab": {
          "base_uri": "https://localhost:8080/"
        },
        "id": "Tj2LL_tCFiah",
        "outputId": "f265e8b2-a424-4493-9038-4d5f67fa45b1"
      },
      "source": [
        "%%R\n",
        "# Previewing our first 5 transactions\n",
        "#\n",
        "inspect(Transactions[1:5])"
      ],
      "execution_count": null,
      "outputs": [
        {
          "output_type": "stream",
          "text": [
            "    items              \n",
            "[1] {almonds,          \n",
            "     antioxydant juice,\n",
            "     avocado,          \n",
            "     cottage cheese,   \n",
            "     energy drink,     \n",
            "     frozen smoothie,  \n",
            "     green grapes,     \n",
            "     green tea,        \n",
            "     honey,            \n",
            "     low fat yogurt,   \n",
            "     mineral water,    \n",
            "     olive oil,        \n",
            "     salad,            \n",
            "     salmon,           \n",
            "     shrimp,           \n",
            "     spinach,          \n",
            "     tomato juice,     \n",
            "     vegetables mix,   \n",
            "     whole weat flour, \n",
            "     yams}             \n",
            "[2] {burgers,          \n",
            "     eggs,             \n",
            "     meatballs}        \n",
            "[3] {chutney}          \n",
            "[4] {avocado,          \n",
            "     turkey}           \n",
            "[5] {energy bar,       \n",
            "     green tea,        \n",
            "     milk,             \n",
            "     mineral water,    \n",
            "     whole wheat rice} \n"
          ],
          "name": "stdout"
        }
      ]
    },
    {
      "cell_type": "code",
      "metadata": {
        "colab": {
          "base_uri": "https://localhost:8080/"
        },
        "id": "R79bfZSWFniG",
        "outputId": "b3ca3491-38d6-44e3-c437-d9ff8ea12b15"
      },
      "source": [
        "%%R\n",
        "# previewing items that make up the dataset\n",
        "\n",
        "items<-as.data.frame(itemLabels(Transactions))\n",
        "colnames(items) <- \"Item\"\n",
        "head(items, 10)  "
      ],
      "execution_count": null,
      "outputs": [
        {
          "output_type": "stream",
          "text": [
            "                Item\n",
            "1            almonds\n",
            "2  antioxydant juice\n",
            "3          asparagus\n",
            "4            avocado\n",
            "5        babies food\n",
            "6              bacon\n",
            "7     barbecue sauce\n",
            "8          black tea\n",
            "9        blueberries\n",
            "10        body spray\n"
          ],
          "name": "stdout"
        }
      ]
    },
    {
      "cell_type": "code",
      "metadata": {
        "colab": {
          "base_uri": "https://localhost:8080/"
        },
        "id": "Bu0FKKDGFrDf",
        "outputId": "06416a7b-3460-42e5-ebf7-17359b2edab1"
      },
      "source": [
        "%%R\n",
        "# Building a model based on association rules \n",
        "# using the apriori function \n",
        "# ---\n",
        "#  using Min Support as 0.001 and confidence as 0.8\n",
        "# ---\n",
        "# \n",
        "rules <- apriori (Transactions, parameter = list(supp = 0.001, conf = 0.8))\n",
        "rules"
      ],
      "execution_count": null,
      "outputs": [
        {
          "output_type": "stream",
          "text": [
            "Apriori\n",
            "\n",
            "Parameter specification:\n",
            " confidence minval smax arem  aval originalSupport maxtime support minlen\n",
            "        0.8    0.1    1 none FALSE            TRUE       5   0.001      1\n",
            " maxlen target  ext\n",
            "     10  rules TRUE\n",
            "\n",
            "Algorithmic control:\n",
            " filter tree heap memopt load sort verbose\n",
            "    0.1 TRUE TRUE  FALSE TRUE    2    TRUE\n",
            "\n",
            "Absolute minimum support count: 7 \n",
            "\n",
            "set item appearances ...[0 item(s)] done [0.00s].\n",
            "set transactions ...[119 item(s), 7501 transaction(s)] done [0.01s].\n",
            "sorting and recoding items ... [116 item(s)] done [0.00s].\n",
            "creating transaction tree ... done [0.00s].\n",
            "checking subsets of size 1 2 3 4 5 6 done [0.02s].\n",
            "writing ... [74 rule(s)] done [0.00s].\n",
            "creating S4 object  ... done [0.00s].\n",
            "set of 74 rules \n"
          ],
          "name": "stdout"
        }
      ]
    },
    {
      "cell_type": "code",
      "metadata": {
        "colab": {
          "base_uri": "https://localhost:8080/"
        },
        "id": "V8dKJ5LLFwIb",
        "outputId": "05cd38ba-55d4-4c21-df06-d81483245367"
      },
      "source": [
        "%%R\n",
        "# I use measures of significance and interest on the rules, \n",
        "# determining which ones are interesting and which to discard.\n",
        "# ---\n",
        "# However since I built the model using 0.001 Min support \n",
        "# and confidence as 0.8 i obtained 74 rules.\n",
        "# However, in order to illustrate the sensitivity of the model to these two parameters, \n",
        "# i will see what happens if i increase the support or lower the confidence level\n",
        "# \n",
        "\n",
        "# Building a apriori model with Min Support as 0.002 and confidence as 0.8.\n",
        "rules2 <- apriori (Transactions,parameter = list(supp = 0.002, conf = 0.8)) \n",
        "\n",
        "# Building apriori model with Min Support as 0.002 and confidence as 0.6.\n",
        "rules3 <- apriori (Transactions, parameter = list(supp = 0.001, conf = 0.6)) \n",
        "\n",
        "rules2\n",
        "\n",
        "rules3"
      ],
      "execution_count": null,
      "outputs": [
        {
          "output_type": "stream",
          "text": [
            "Apriori\n",
            "\n",
            "Parameter specification:\n",
            " confidence minval smax arem  aval originalSupport maxtime support minlen\n",
            "        0.8    0.1    1 none FALSE            TRUE       5   0.002      1\n",
            " maxlen target  ext\n",
            "     10  rules TRUE\n",
            "\n",
            "Algorithmic control:\n",
            " filter tree heap memopt load sort verbose\n",
            "    0.1 TRUE TRUE  FALSE TRUE    2    TRUE\n",
            "\n",
            "Absolute minimum support count: 15 \n",
            "\n",
            "set item appearances ...[0 item(s)] done [0.00s].\n",
            "set transactions ...[119 item(s), 7501 transaction(s)] done [0.01s].\n",
            "sorting and recoding items ... [115 item(s)] done [0.00s].\n",
            "creating transaction tree ... done [0.00s].\n",
            "checking subsets of size 1 2 3 4 5 done [0.01s].\n",
            "writing ... [2 rule(s)] done [0.00s].\n",
            "creating S4 object  ... done [0.00s].\n",
            "Apriori\n",
            "\n",
            "Parameter specification:\n",
            " confidence minval smax arem  aval originalSupport maxtime support minlen\n",
            "        0.6    0.1    1 none FALSE            TRUE       5   0.001      1\n",
            " maxlen target  ext\n",
            "     10  rules TRUE\n",
            "\n",
            "Algorithmic control:\n",
            " filter tree heap memopt load sort verbose\n",
            "    0.1 TRUE TRUE  FALSE TRUE    2    TRUE\n",
            "\n",
            "Absolute minimum support count: 7 \n",
            "\n",
            "set item appearances ...[0 item(s)] done [0.00s].\n",
            "set transactions ...[119 item(s), 7501 transaction(s)] done [0.01s].\n",
            "sorting and recoding items ... [116 item(s)] done [0.00s].\n",
            "creating transaction tree ... done [0.00s].\n",
            "checking subsets of size 1 2 3 4 5 6 done [0.02s].\n",
            "writing ... [545 rule(s)] done [0.00s].\n",
            "creating S4 object  ... done [0.00s].\n",
            "set of 545 rules \n"
          ],
          "name": "stdout"
        }
      ]
    },
    {
      "cell_type": "markdown",
      "metadata": {
        "id": "3eeSpb-NGFM5"
      },
      "source": [
        "In our first example, we increased the minimum support of 0.001 to 0.002 and model rules went from 74 to only 10. This would lead us to understand that using a high level of support can make the model lose interesting rules. In the second example, we decreased the minimum confidence level to 0.6 and the number of model rules went from 74 to 545. This would mean that using a low confidence level increases the number of rules to quite an extent and many will not be useful."
      ]
    },
    {
      "cell_type": "code",
      "metadata": {
        "colab": {
          "base_uri": "https://localhost:8080/"
        },
        "id": "5x6KmUDJF4sE",
        "outputId": "3924419c-1dfa-42a0-bfc8-2a8d6979198f"
      },
      "source": [
        "%%R\n",
        "# performig an exploration of  model \n",
        "summary(rules)"
      ],
      "execution_count": null,
      "outputs": [
        {
          "output_type": "stream",
          "text": [
            "set of 74 rules\n",
            "\n",
            "rule length distribution (lhs + rhs):sizes\n",
            " 3  4  5  6 \n",
            "15 42 16  1 \n",
            "\n",
            "   Min. 1st Qu.  Median    Mean 3rd Qu.    Max. \n",
            "  3.000   4.000   4.000   4.041   4.000   6.000 \n",
            "\n",
            "summary of quality measures:\n",
            "    support           confidence        coverage             lift       \n",
            " Min.   :0.001067   Min.   :0.8000   Min.   :0.001067   Min.   : 3.356  \n",
            " 1st Qu.:0.001067   1st Qu.:0.8000   1st Qu.:0.001333   1st Qu.: 3.432  \n",
            " Median :0.001133   Median :0.8333   Median :0.001333   Median : 3.795  \n",
            " Mean   :0.001256   Mean   :0.8504   Mean   :0.001479   Mean   : 4.823  \n",
            " 3rd Qu.:0.001333   3rd Qu.:0.8889   3rd Qu.:0.001600   3rd Qu.: 4.877  \n",
            " Max.   :0.002533   Max.   :1.0000   Max.   :0.002666   Max.   :12.722  \n",
            "     count       \n",
            " Min.   : 8.000  \n",
            " 1st Qu.: 8.000  \n",
            " Median : 8.500  \n",
            " Mean   : 9.419  \n",
            " 3rd Qu.:10.000  \n",
            " Max.   :19.000  \n",
            "\n",
            "mining info:\n",
            "         data ntransactions support confidence\n",
            " Transactions          7501   0.001        0.8\n"
          ],
          "name": "stdout"
        }
      ]
    },
    {
      "cell_type": "code",
      "metadata": {
        "colab": {
          "base_uri": "https://localhost:8080/"
        },
        "id": "GnKS1FxuGn9z",
        "outputId": "1844b0fe-0e7a-4f85-d733-b8df802d1174"
      },
      "source": [
        "%%R\n",
        "# Observing rules built in our model i.e. first 5 model rules\n",
        "# ---\n",
        "# \n",
        "inspect(rules[1:5])"
      ],
      "execution_count": null,
      "outputs": [
        {
          "output_type": "stream",
          "text": [
            "    lhs                             rhs             support     confidence\n",
            "[1] {frozen smoothie,spinach}    => {mineral water} 0.001066524 0.8888889 \n",
            "[2] {bacon,pancakes}             => {spaghetti}     0.001733102 0.8125000 \n",
            "[3] {nonfat milk,turkey}         => {mineral water} 0.001199840 0.8181818 \n",
            "[4] {ground beef,nonfat milk}    => {mineral water} 0.001599787 0.8571429 \n",
            "[5] {mushroom cream sauce,pasta} => {escalope}      0.002532996 0.9500000 \n",
            "    coverage    lift      count\n",
            "[1] 0.001199840  3.729058  8   \n",
            "[2] 0.002133049  4.666587 13   \n",
            "[3] 0.001466471  3.432428  9   \n",
            "[4] 0.001866418  3.595877 12   \n",
            "[5] 0.002666311 11.976387 19   \n"
          ],
          "name": "stdout"
        }
      ]
    },
    {
      "cell_type": "markdown",
      "metadata": {
        "id": "gaNWIb7qG1WM"
      },
      "source": [
        "if someone buys frozen smoothie and spinach , they are likely 88% to buy mineral water too."
      ]
    },
    {
      "cell_type": "code",
      "metadata": {
        "colab": {
          "base_uri": "https://localhost:8080/"
        },
        "id": "cCahFibjHD4S",
        "outputId": "464ff1a6-7924-4fd9-c6dd-070599b3fc84"
      },
      "source": [
        "%%R\n",
        "# Ordering these rules by a criteria such as the level of confidence\n",
        "# then looking at the first five rules.\n",
        "rules<-sort(rules, by=\"confidence\", decreasing=TRUE)\n",
        "inspect(rules[1:5])\n"
      ],
      "execution_count": null,
      "outputs": [
        {
          "output_type": "stream",
          "text": [
            "    lhs                                          rhs             support    \n",
            "[1] {french fries,mushroom cream sauce,pasta} => {escalope}      0.001066524\n",
            "[2] {ground beef,light cream,olive oil}       => {mineral water} 0.001199840\n",
            "[3] {cake,meatballs,mineral water}            => {milk}          0.001066524\n",
            "[4] {cake,olive oil,shrimp}                   => {mineral water} 0.001199840\n",
            "[5] {mushroom cream sauce,pasta}              => {escalope}      0.002532996\n",
            "    confidence coverage    lift      count\n",
            "[1] 1.00       0.001066524 12.606723  8   \n",
            "[2] 1.00       0.001199840  4.195190  9   \n",
            "[3] 1.00       0.001066524  7.717078  8   \n",
            "[4] 1.00       0.001199840  4.195190  9   \n",
            "[5] 0.95       0.002666311 11.976387 19   \n"
          ],
          "name": "stdout"
        }
      ]
    },
    {
      "cell_type": "markdown",
      "metadata": {
        "id": "qdJiY8xJHacI"
      },
      "source": [
        "the first four rules have a confidence of 100%"
      ]
    },
    {
      "cell_type": "code",
      "metadata": {
        "colab": {
          "base_uri": "https://localhost:8080/"
        },
        "id": "l0yTXuHhMsCS",
        "outputId": "0600610c-3d39-40c0-80c7-c104a21d14cf"
      },
      "source": [
        "%%R\n",
        "# If am interested in making a promotion relating to the sale of escalope, \n",
        "# i could create a subset of rules concerning these products \n",
        "# This would tell  the items that the customers bought before purchasing escalope\n",
        "escalope <- subset(rules, subset = rhs %pin% \"escalope\")\n",
        " \n",
        "# Then order by confidence\n",
        "escalope<-sort(escalope, by=\"confidence\", decreasing=TRUE)\n",
        "inspect(escalope)"
      ],
      "execution_count": null,
      "outputs": [
        {
          "output_type": "stream",
          "text": [
            "    lhs                                          rhs        support    \n",
            "[1] {french fries,mushroom cream sauce,pasta} => {escalope} 0.001066524\n",
            "[2] {mushroom cream sauce,pasta}              => {escalope} 0.002532996\n",
            "    confidence coverage    lift     count\n",
            "[1] 1.00       0.001066524 12.60672  8   \n",
            "[2] 0.95       0.002666311 11.97639 19   \n"
          ],
          "name": "stdout"
        }
      ]
    },
    {
      "cell_type": "code",
      "metadata": {
        "colab": {
          "base_uri": "https://localhost:8080/"
        },
        "id": "jN-C5S3pHS1A",
        "outputId": "bd1996c4-d4cf-4d63-d9f7-7d7983842981"
      },
      "source": [
        "%%R\n",
        "# What if we wanted to determine items that customers might buy \n",
        "# who have previously bought escalope?\n",
        "# ---\n",
        "# \n",
        "# Subset the rules\n",
        "escalope <- subset(rules, subset = lhs %pin% \"escalope\")\n",
        "\n",
        "# Order by confidence\n",
        "escalope<-sort(escalope, by=\"confidence\", decreasing=TRUE)\n",
        "\n",
        "# inspect top 5\n",
        "inspect(head(escalope))"
      ],
      "execution_count": null,
      "outputs": [
        {
          "output_type": "stream",
          "text": [
            "    lhs                                  rhs             support     confidence\n",
            "[1] {escalope,hot dogs,mineral water} => {milk}          0.001066524 0.8888889 \n",
            "[2] {escalope,french fries,shrimp}    => {chocolate}     0.001066524 0.8888889 \n",
            "[3] {escalope,hot dogs,milk}          => {mineral water} 0.001066524 0.8000000 \n",
            "    coverage    lift     count\n",
            "[1] 0.001199840 6.859625 8    \n",
            "[2] 0.001199840 5.425188 8    \n",
            "[3] 0.001333156 3.356152 8    \n"
          ],
          "name": "stdout"
        }
      ]
    },
    {
      "cell_type": "markdown",
      "metadata": {
        "id": "3W1JNW2sSQi0"
      },
      "source": [
        "# Follow up Questions\n",
        "1. Did I have the right data? Yes the data was right for my analysis.\n",
        "2. Did I need other data? No\n",
        "3. Did I the right objective Yes, I was able to achieve my objective"
      ]
    }
  ]
}